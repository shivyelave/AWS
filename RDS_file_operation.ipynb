{
 "cells": [
  {
   "cell_type": "markdown",
   "metadata": {},
   "source": [
    "'''\n",
    "<br><br>\n",
    "@Author: Shivraj Yelave<br>\n",
    "@Date: 12-09-24<br>\n",
    "@Last modified by: Shivraj Yelave<br>\n",
    "@Last modified time: 12-09-24<br>\n",
    "@Title: CURD Operation in RDS Using boto3<br><br>\n",
    "'''"
   ]
  },
  {
   "cell_type": "code",
   "execution_count": 1,
   "metadata": {},
   "outputs": [],
   "source": [
    "import boto3\n",
    "from dotenv import load_dotenv\n",
    "\n",
    "load_dotenv()\n",
    "\n",
    "s3 = boto3.client('s3')"
   ]
  },
  {
   "cell_type": "code",
   "execution_count": 2,
   "metadata": {},
   "outputs": [
    {
     "name": "stdout",
     "output_type": "stream",
     "text": [
      "File covid_19_clean_complete.csv uploaded to bucket lambda.busket.\n"
     ]
    }
   ],
   "source": [
    "\n",
    "def upload_file_to_s3(file_name, bucket, object_name=None):\n",
    "    \"\"\"\n",
    "    Description:\n",
    "    Uploads a file to an Amazon S3 bucket.\n",
    "\n",
    "    Parameters:\n",
    "    file_name (str): The path to the file to be uploaded.\n",
    "    bucket (str): The name of the S3 bucket where the file will be uploaded.\n",
    "    object_name (str, optional): The name of the object in S3. If not specified, the file_name is used.\n",
    "\n",
    "    Returns:\n",
    "    None\n",
    "\n",
    "    Prints:\n",
    "    A confirmation message if the upload is successful.\n",
    "    An error message if the upload fails.\n",
    "    \"\"\"\n",
    "    try:\n",
    "        # Upload the file to S3\n",
    "        s3.upload_file(file_name, bucket, object_name or file_name)\n",
    "        print(f\"File {file_name} uploaded to bucket {bucket}.\")\n",
    "    except Exception as e:\n",
    "        # Print any error messages\n",
    "        print(f\"Error: {e}\")\n",
    "\n",
    "# Example usage of the function\n",
    "upload_file_to_s3('covid_19_clean_complete.csv', 'lambda.busket', 'dataset.csv')\n"
   ]
  },
  {
   "cell_type": "code",
   "execution_count": 3,
   "metadata": {},
   "outputs": [
    {
     "name": "stdout",
     "output_type": "stream",
     "text": [
      "File dataset.csv downloaded from bucket lambda.busket.\n"
     ]
    }
   ],
   "source": [
    "\n",
    "def download_file_from_s3(bucket, object_name, file_name=None):\n",
    "    \"\"\"\n",
    "    Description:\n",
    "    Downloads a file from an Amazon S3 bucket.\n",
    "\n",
    "    Parameters:\n",
    "    bucket (str): The name of the S3 bucket from which the file will be downloaded.\n",
    "    object_name (str): The key (name) of the object in S3 to be downloaded.\n",
    "    file_name (str, optional): The local path where the file will be saved. If not specified, the object_name is used.\n",
    "\n",
    "    Returns:\n",
    "    None\n",
    "\n",
    "    Prints:\n",
    "    A confirmation message if the download is successful.\n",
    "    An error message if the download fails.\n",
    "    \"\"\"\n",
    "    try:\n",
    "        # Download the file from S3\n",
    "        s3.download_file(bucket, object_name, file_name or object_name)\n",
    "        print(f\"File {object_name} downloaded from bucket {bucket}.\")\n",
    "    except Exception as e:\n",
    "        # Print any error messages\n",
    "        print(f\"Error: {e}\")\n",
    "\n",
    "# Example usage of the function\n",
    "download_file_from_s3('lambda.busket', 'dataset.csv', 'dataset.csv')\n"
   ]
  },
  {
   "cell_type": "code",
   "execution_count": 1,
   "metadata": {},
   "outputs": [
    {
     "name": "stdout",
     "output_type": "stream",
     "text": [
      "DataFrame Columns: Index(['Province/State', 'Country/Region', 'Lat', 'Long', 'Date', 'Confirmed',\n",
      "       'Deaths', 'Recovered', 'Active', 'WHO Region'],\n",
      "      dtype='object')\n",
      "Province/State    Australian Capital Territory\n",
      "Country/Region                       Australia\n",
      "Lat                                   -35.4735\n",
      "Long                                  149.0124\n",
      "Date                                2020-01-22\n",
      "Confirmed                                    0\n",
      "Deaths                                       0\n",
      "Recovered                                    0\n",
      "Active                                       0\n",
      "WHO Region                     Western Pacific\n",
      "Name: 8, dtype: object\n"
     ]
    }
   ],
   "source": [
    "import pyodbc\n",
    "import boto3\n",
    "from io import StringIO\n",
    "import pandas as pd\n",
    "from dotenv import load_dotenv\n",
    "import os\n",
    "\n",
    "# Load environment variables from .env file\n",
    "load_dotenv()\n",
    "\n",
    "def load_data_to_rds_from_s3():\n",
    "    \"\"\"\n",
    "    Description:\n",
    "    Downloads a CSV file from S3, processes the data, and loads it into an RDS instance.\n",
    "\n",
    "    This function:\n",
    "    - Downloads a CSV file from an S3 bucket.\n",
    "    - Converts the CSV data into a pandas DataFrame.\n",
    "    - Creates a table in an RDS SQL Server instance if it does not already exist.\n",
    "    - Inserts data from the DataFrame into the RDS table.\n",
    "    \"\"\"\n",
    "    # Get environment variables\n",
    "    rds_host = os.getenv('RDS_HOST')\n",
    "    rds_user = os.getenv('RDS_USER')\n",
    "    rds_password = os.getenv('RDS_PASSWORD')\n",
    "    db_name = os.getenv('DB_NAME')\n",
    "    bucket = os.getenv('S3_BUCKET')\n",
    "    key = os.getenv('S3_KEY')\n",
    "\n",
    "    # Download file from S3\n",
    "    s3 = boto3.client('s3')\n",
    "    response = s3.get_object(Bucket=bucket, Key=key)\n",
    "    data = response['Body'].read().decode('utf-8')\n",
    "\n",
    "    # Convert CSV data to DataFrame\n",
    "    df = pd.read_csv(StringIO(data))\n",
    "\n",
    "    # Print DataFrame columns to see what's in the file\n",
    "    print(\"DataFrame Columns:\", df.columns)    \n",
    "    # Ensure the data types and handle NaN\n",
    "\n",
    "    \n",
    "    # Debug: Inspect one row before inserting\n",
    "    df = df.head(127)  # Limit rows for testing\n",
    "    df = df.dropna()\n",
    "    print(df.iloc[0])  # Print the first row to debug\n",
    "\n",
    "    # Connect to RDS\n",
    "    conn_str = f\"DRIVER={{ODBC Driver 17 for SQL Server}};SERVER={rds_host};DATABASE={db_name};UID={rds_user};PWD={rds_password}\"\n",
    "    conn = pyodbc.connect(conn_str)\n",
    "    cursor = conn.cursor()\n",
    "\n",
    "    # Create table if not exists\n",
    "    cursor.execute(\"\"\"\n",
    "    IF NOT EXISTS (SELECT * FROM sysobjects WHERE name='covid' AND xtype='U')\n",
    "    CREATE TABLE covid (\n",
    "        Province_State  nvarchar(255),\n",
    "        Country_Region  nvarchar(255),\n",
    "        Lat   decimal(10, 8),\n",
    "        Long   decimal(11, 8),\n",
    "        Date    date,\n",
    "        Confirmed  int,\n",
    "        Deaths     int,\n",
    "        Recovered   int,\n",
    "        Active      int,\n",
    "        WHO_Region   nvarchar(255)\n",
    "    )\n",
    "    \"\"\")\n",
    "\n",
    "    # Load data into RDS\n",
    "    for index, row in df.iterrows():\n",
    "        try:\n",
    "            cursor.execute(\"\"\"\n",
    "            INSERT INTO covid (Province_State, Country_Region, Lat, Long, Date, Confirmed, Deaths, Recovered, Active, WHO_Region)\n",
    "            VALUES (?, ?, ?, ?, ?, ?, ?, ?, ?, ?) \n",
    "            \"\"\", row['Province/State'], row['Country/Region'], row['Lat'], row['Long'], row['Date'], \n",
    "            row['Confirmed'], row['Deaths'], row['Recovered'], row['Active'], row['WHO Region'])\n",
    "        except pyodbc.Error as e:\n",
    "            print(f\"Error inserting row {index}: {e}\")\n",
    "            print(f\"Row data: {row}\")  # Print row data for debugging\n",
    "\n",
    "    conn.commit()\n",
    "    cursor.close()\n",
    "    conn.close()\n",
    "\n",
    "load_data_to_rds_from_s3()\n"
   ]
  }
 ],
 "metadata": {
  "kernelspec": {
   "display_name": "Python 3",
   "language": "python",
   "name": "python3"
  },
  "language_info": {
   "codemirror_mode": {
    "name": "ipython",
    "version": 3
   },
   "file_extension": ".py",
   "mimetype": "text/x-python",
   "name": "python",
   "nbconvert_exporter": "python",
   "pygments_lexer": "ipython3",
   "version": "3.8.10"
  }
 },
 "nbformat": 4,
 "nbformat_minor": 2
}
