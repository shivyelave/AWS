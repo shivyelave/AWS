{
 "cells": [
  {
   "cell_type": "markdown",
   "metadata": {},
   "source": [
    "'''<br>\n",
    "<br>\n",
    "\n",
    "\n",
    "@Author: Shivraj Yelave<br>\n",
    "@Date: 11-09-24<br>\n",
    "@Last modified by: Shivraj Yelave<br>\n",
    "@Last modified time: 11-09-24<br>\n",
    "@Title: File Transfer Using boto3<br>\n",
    "<br>\n",
    "\n",
    "\n",
    "'''"
   ]
  },
  {
   "cell_type": "markdown",
   "metadata": {},
   "source": [
    "## Make configuration"
   ]
  },
  {
   "cell_type": "code",
   "execution_count": 1,
   "metadata": {},
   "outputs": [],
   "source": [
    "#import require files nad modules\n",
    "import boto3\n",
    "import boto3\n",
    "from dotenv import load_dotenv\n",
    "\n",
    "# Load the environment variables from the .env file\n",
    "load_dotenv()\n",
    "\n",
    "# Initialize the S3 client\n",
    "s3 = boto3.client('s3')"
   ]
  },
  {
   "cell_type": "markdown",
   "metadata": {},
   "source": [
    "## Small File Transfer(.csv) from local to S3 and vice versa"
   ]
  },
  {
   "cell_type": "code",
   "execution_count": 5,
   "metadata": {},
   "outputs": [
    {
     "name": "stdout",
     "output_type": "stream",
     "text": [
      "File 'John.Wick-Chapter.4.2023.720p.10Bit.WEB-DL.Hindi.ORG.5.1-English.ESub.x265-HDHub4u.Tv.mkv' uploaded successfully to 'shivv.yelave/movie'\n"
     ]
    }
   ],
   "source": [
    "from boto3.transfer import  TransferConfig\n",
    "\n",
    "def upload_file_to_s3(file_name, bucket, object_name=None):\n",
    "    \"\"\"\n",
    "    Uploads a file to an S3 bucket.\n",
    "\n",
    "    Parameters:\n",
    "    file_name (str): Local path to the file to upload.\n",
    "    bucket (str): S3 bucket name.\n",
    "    object_name (str, optional): S3 object name. If not provided, the file_name is used.\n",
    "\n",
    "    Returns:\n",
    "    None\n",
    "    \"\"\"\n",
    "    if object_name is None:\n",
    "        object_name = file_name\n",
    "    \n",
    "    try:\n",
    "        config = TransferConfig(multipart_threshold=1024*1024*25, max_concurrency=30,multipart_chunksize=1024*1024*25, use_threads=True) \n",
    "        s3.upload_file(file_name, bucket, object_name,Config = config)\n",
    "        print(f\"File '{file_name}' uploaded successfully to '{bucket}/{object_name}'\")\n",
    "    except FileNotFoundError:\n",
    "        print(\"The file was not found.\")\n",
    "\n",
    "\n",
    "def download_file_from_s3(bucket, object_name, download_path):\n",
    "    \"\"\"\n",
    "    Downloads a file from an S3 bucket to a local path.\n",
    "\n",
    "    Parameters:\n",
    "    bucket (str): S3 bucket name.\n",
    "    object_name (str): S3 object key (file name in the bucket).\n",
    "    download_path (str): Local path to save the downloaded file.\n",
    "\n",
    "    Returns:\n",
    "    None\n",
    "    \"\"\"\n",
    "    try:\n",
    "        config = TransferConfig(multipart_threshold=1024*1024*25, max_concurrency=30,\n",
    "                         multipart_chunksize=1024*1024*25, use_threads=True)        \n",
    "        s3.download_file(bucket, object_name, download_path,Config = config)\n",
    "        print(f\"File '{object_name}' downloaded successfully from '{bucket}' to '{download_path}'\")\n",
    "    except FileNotFoundError:\n",
    "        print(\"The file was not found in the bucket.\")\n",
    "\n",
    "if __name__ == \"__main__\":\n",
    "    # Example usage\n",
    "    #.csv\n",
    "    #upload_file_to_s3('example-1.csv', 'shivv.yelave', 'example.csv')\n",
    "    #download_file_from_s3('shivv.yelave', 'example.csv', 'downloaded_example.csv')\n",
    "\n",
    "    #movie\n",
    "    upload_file_to_s3('John.Wick-Chapter.4.2023.720p.10Bit.WEB-DL.Hindi.ORG.5.1-English.ESub.x265-HDHub4u.Tv.mkv', 'shivv.yelave', 'movie')\n",
    "    download_file_from_s3('shivv.yelave', 'movie', 'downloaded_movie.csv')\n"
   ]
  }
 ],
 "metadata": {
  "kernelspec": {
   "display_name": "Python 3",
   "language": "python",
   "name": "python3"
  },
  "language_info": {
   "codemirror_mode": {
    "name": "ipython",
    "version": 3
   },
   "file_extension": ".py",
   "mimetype": "text/x-python",
   "name": "python",
   "nbconvert_exporter": "python",
   "pygments_lexer": "ipython3",
   "version": "3.8.10"
  }
 },
 "nbformat": 4,
 "nbformat_minor": 2
}
