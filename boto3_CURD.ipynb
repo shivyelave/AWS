{
 "cells": [
  {
   "cell_type": "markdown",
   "metadata": {},
   "source": [
    "'''\n",
    "\n",
    "\n",
    "    @Author: Shivraj Yelave\n",
    "    @Date: 10-09-24\n",
    "    @Last modified by: Shivraj Yelave\n",
    "    @Last modified time: 11-09-24\n",
    "    @Title: CURD Operation Using boto3\n",
    "\n",
    "\n",
    "'''"
   ]
  },
  {
   "cell_type": "markdown",
   "metadata": {},
   "source": [
    "## Configuration to AWS"
   ]
  },
  {
   "cell_type": "code",
   "execution_count": 1,
   "metadata": {},
   "outputs": [],
   "source": [
    "#import require files nad modules\n",
    "import boto3\n",
    "import boto3\n",
    "from dotenv import load_dotenv\n",
    "\n",
    "# Load the environment variables from the .env file\n",
    "load_dotenv()\n",
    "\n",
    "# Initialize the S3 client\n",
    "s3 = boto3.client('s3')"
   ]
  },
  {
   "cell_type": "markdown",
   "metadata": {},
   "source": [
    "## Create Bucket"
   ]
  },
  {
   "cell_type": "code",
   "execution_count": 2,
   "metadata": {},
   "outputs": [
    {
     "name": "stdout",
     "output_type": "stream",
     "text": [
      "Bucket shivv.yelave created successfully.\n"
     ]
    }
   ],
   "source": [
    "\n",
    "# Create a new S3 bucket\n",
    "bucket_name = 'shivv.yelave'\n",
    "s3.create_bucket(Bucket=bucket_name, CreateBucketConfiguration={\n",
    "    'LocationConstraint': 'us-west-2'})\n",
    "\n",
    "print(f\"Bucket {bucket_name} created successfully.\")\n"
   ]
  },
  {
   "cell_type": "markdown",
   "metadata": {},
   "source": [
    "## Upload/Add File in bucket"
   ]
  },
  {
   "cell_type": "code",
   "execution_count": 9,
   "metadata": {},
   "outputs": [
    {
     "name": "stdout",
     "output_type": "stream",
     "text": [
      "File uploaded successfully.\n"
     ]
    }
   ],
   "source": [
    "def upload_file(file_name, bucket, object_name=None):\n",
    "    \n",
    "    \"\"\"\n",
    "    Description:\n",
    "    Uploads a file to an S3 bucket.\n",
    "\n",
    "    Parameters:\n",
    "    file_name (str): The name of the file to upload.\n",
    "    bucket (str): The name of the S3 bucket to upload the file to.\n",
    "    object_name (str, optional): The S3 object name. If not specified, the file_name is used.\n",
    "\n",
    "    Returns:\n",
    "    None: Prints success or failure message.\n",
    "    \"\"\"\n",
    "    # If no object_name is provided, set it to file_name\n",
    "    if object_name is None:\n",
    "        object_name = file_name\n",
    "    \n",
    "    try:\n",
    "        # Upload the file to the specified S3 bucket\n",
    "        s3.upload_file(file_name, bucket, object_name)\n",
    "        print(\"File uploaded successfully.\")\n",
    "    except Exception as e:\n",
    "        # Handle any errors that occur during the upload process\n",
    "        print(f\"Upload failed: {e}\")\n",
    "\n",
    "\n",
    "def main():\n",
    "    upload_file('style_s3.css', 'shiv.yelave')\n",
    "\n",
    "if __name__ =='__main__':\n",
    "    main()\n"
   ]
  },
  {
   "cell_type": "markdown",
   "metadata": {},
   "source": [
    "## Dwonload /Read Files"
   ]
  },
  {
   "cell_type": "code",
   "execution_count": 9,
   "metadata": {},
   "outputs": [
    {
     "name": "stdout",
     "output_type": "stream",
     "text": [
      "File downloaded successfully.\n"
     ]
    }
   ],
   "source": [
    "def download_file(bucket, object_name, file_name):\n",
    "    \"\"\"\n",
    "    Description:\n",
    "    Downloads a file from an S3 bucket.\n",
    "\n",
    "    Parameters:\n",
    "    bucket (str): The name of the S3 bucket to download the file from.\n",
    "    object_name (str): The name of the object (file) in the S3 bucket.\n",
    "    file_name (str): The name to give the downloaded file locally.\n",
    "\n",
    "    Returns:\n",
    "    None: Prints success or failure message.\n",
    "    \"\"\"\n",
    "    try:\n",
    "        # Download the file from the specified S3 bucket\n",
    "        s3.download_file(bucket, object_name, file_name)\n",
    "        print(\"File downloaded successfully.\")\n",
    "    except Exception as e:\n",
    "        # Handle any errors that occur during the download process\n",
    "        print(f\"Download failed: {e}\")\n",
    "\n",
    "def main():\n",
    "\n",
    "    # Call download_file to download 'style.css' from the 'shiv.yelave' bucket to 'css_download.css'\n",
    "    download_file('shiv.yelave', 'style.css', 'css_download.css')\n",
    "\n",
    "# If the script is run directly, call the main function\n",
    "if __name__ == '__main__':\n",
    "    main()\n"
   ]
  },
  {
   "cell_type": "markdown",
   "metadata": {},
   "source": [
    "## update File\n"
   ]
  },
  {
   "cell_type": "code",
   "execution_count": 8,
   "metadata": {},
   "outputs": [],
   "source": [
    "def download_css(bucket_name, object_key, download_path):\n",
    "    \"\"\"\n",
    "    Description:\n",
    "    Downloads a CSS file from an S3 bucket to a local path.\n",
    "\n",
    "    Parameters:\n",
    "    bucket_name (str): The name of the S3 bucket.\n",
    "    object_key (str): The key (file name) of the object in the S3 bucket.\n",
    "    download_path (str): The local path where the file will be saved.\n",
    "\n",
    "    Returns:\n",
    "    None\n",
    "    \"\"\"\n",
    "    s3.download_file(bucket_name, object_key, download_path)\n",
    "\n",
    "\n",
    "def upload_css(bucket_name, object_key, upload_path):\n",
    "    \"\"\"\n",
    "    Description:\n",
    "    Uploads a CSS file from a local path to an S3 bucket.\n",
    "\n",
    "    Parameters:\n",
    "    bucket_name (str): The name of the S3 bucket.\n",
    "    object_key (str): The key (file name) to save the object as in the S3 bucket.\n",
    "    upload_path (str): The local path of the file to upload.\n",
    "\n",
    "    Returns:\n",
    "    None\n",
    "    \"\"\"\n",
    "    s3.upload_file(upload_path, bucket_name, object_key)\n",
    "\n",
    "\n",
    "def modify_css(file_path, old_color, new_color):\n",
    "    \"\"\"\n",
    "    Description:\n",
    "    Modifies a CSS file by replacing an old color with a new color.\n",
    "\n",
    "    Parameters:\n",
    "    file_path (str): The local path of the CSS file to modify.\n",
    "    old_color (str): The old color (CSS color code) to be replaced.\n",
    "    new_color (str): The new color (CSS color code) to replace the old color.\n",
    "\n",
    "    Returns:\n",
    "    None\n",
    "    \"\"\"\n",
    "    # Open the file and read its contents\n",
    "    with open(file_path, 'r') as file:\n",
    "        html_content = file.read()\n",
    "\n",
    "    # Replace the old color with the new color in the file content\n",
    "    updated_html_content = html_content.replace(old_color, new_color)\n",
    "\n",
    "    # Write the updated content back to the file\n",
    "    with open(file_path, 'w') as file:\n",
    "        file.write(updated_html_content)\n",
    "\n",
    "\n",
    "def main():\n",
    "\n",
    "    # Example usage\n",
    "    bucket_name = 'shiv.yelave'\n",
    "    object_key = 'style.css'\n",
    "    local_file_path = 'style.css'\n",
    "\n",
    "    # Download the CSS file from S3\n",
    "    download_css(bucket_name, object_key, local_file_path)\n",
    "    \n",
    "    # Modify the CSS file by replacing the old color with a new one\n",
    "    modify_css(local_file_path, 'color: #fffff;', 'color: #f8fbf9;')\n",
    "    \n",
    "    # Upload the modified CSS file back to S3\n",
    "    upload_css(bucket_name, object_key, local_file_path)\n",
    "\n",
    "\n",
    "# If the script is run directly, call the main function\n",
    "if __name__ == '__main__':\n",
    "    main()\n"
   ]
  },
  {
   "cell_type": "markdown",
   "metadata": {},
   "source": [
    "## Delete file"
   ]
  },
  {
   "cell_type": "code",
   "execution_count": 10,
   "metadata": {},
   "outputs": [
    {
     "name": "stdout",
     "output_type": "stream",
     "text": [
      "File deleted successfully.\n"
     ]
    }
   ],
   "source": [
    "def delete_object(bucket, object_name):\n",
    "    \"\"\"\n",
    "    Description:\n",
    "    Deletes an object (file) from an S3 bucket.\n",
    "\n",
    "    Parameters:\n",
    "    bucket (str): The name of the S3 bucket.\n",
    "    object_name (str): The key (file name) of the object to delete in the S3 bucket.\n",
    "\n",
    "    Returns:\n",
    "    None: Prints success or failure message.\n",
    "    \"\"\"\n",
    "    try:\n",
    "        # Delete the file from the specified S3 bucket\n",
    "        s3.delete_object(Bucket=bucket, Key=object_name)\n",
    "        print(\"File deleted successfully.\")\n",
    "    except Exception as e:\n",
    "        # Handle any errors that occur during the deletion process\n",
    "        print(f\"Delete failed: {e}\")\n",
    "\n",
    "def main():\n",
    "\n",
    "    # Call delete_object to delete 'style_s3.css' from the 'shiv.yelave' bucket\n",
    "    delete_object('shiv.yelave', 'style_s3.css')\n",
    "\n",
    "# If the script is run directly, call the main function\n",
    "if __name__ == '__main__':\n",
    "    main()\n"
   ]
  }
 ],
 "metadata": {
  "kernelspec": {
   "display_name": "Python 3",
   "language": "python",
   "name": "python3"
  },
  "language_info": {
   "codemirror_mode": {
    "name": "ipython",
    "version": 3
   },
   "file_extension": ".py",
   "mimetype": "text/x-python",
   "name": "python",
   "nbconvert_exporter": "python",
   "pygments_lexer": "ipython3",
   "version": "3.8.10"
  }
 },
 "nbformat": 4,
 "nbformat_minor": 2
}
